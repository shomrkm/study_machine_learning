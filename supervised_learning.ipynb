{
  "nbformat": 4,
  "nbformat_minor": 0,
  "metadata": {
    "colab": {
      "name": "supervised_learning.ipynb",
      "provenance": [],
      "collapsed_sections": [],
      "authorship_tag": "ABX9TyOnKLiZa2UqyNMX2oKhobYs",
      "include_colab_link": true
    },
    "kernelspec": {
      "name": "python3",
      "display_name": "Python 3"
    }
  },
  "cells": [
    {
      "cell_type": "markdown",
      "metadata": {
        "id": "view-in-github",
        "colab_type": "text"
      },
      "source": [
        "<a href=\"https://colab.research.google.com/github/shomrkm/study_machine_learning/blob/master/supervised_learning.ipynb\" target=\"_parent\"><img src=\"https://colab.research.google.com/assets/colab-badge.svg\" alt=\"Open In Colab\"/></a>"
      ]
    },
    {
      "cell_type": "markdown",
      "metadata": {
        "id": "Rwf13LibntC-",
        "colab_type": "text"
      },
      "source": [
        "# 2章 教師あり学習\n",
        "\n",
        "## サンプルデータセットの紹介\n",
        "\n",
        "Forge データセット"
      ]
    },
    {
      "cell_type": "code",
      "metadata": {
        "id": "5IuFp-9b4-Zs",
        "colab_type": "code",
        "colab": {}
      },
      "source": [
        "!pip install mglearn\n",
        "\n",
        "import matplotlib\n",
        "import mglearn\n",
        "import matplotlib.pyplot as plt\n",
        "\n",
        "# forge データセットの散布図\n",
        "#   データセットの生成\n",
        "X,y = mglearn.datasets.make_forge()\n",
        "#   データセットをプロット\n",
        "mglearn.discrete_scatter(X[:,0], X[:,1], y)\n",
        "plt.legend([\"Class 0\", \"Class 1\"], loc=4)\n",
        "plt.xlabel(\"First feature\")\n",
        "plt.ylabel(\"Second feature\")\n",
        "print(\"X.shape: {}\".format(X.shape))\n"
      ],
      "execution_count": 0,
      "outputs": []
    },
    {
      "cell_type": "markdown",
      "metadata": {
        "id": "Di-1qko_vGuW",
        "colab_type": "text"
      },
      "source": [
        ""
      ]
    },
    {
      "cell_type": "markdown",
      "metadata": {
        "id": "liAgvGFGmyon",
        "colab_type": "text"
      },
      "source": [
        "wageデータセット  \n",
        "- 以下でプロットしている(x軸に特徴量、y軸に回帰ターゲット)\n"
      ]
    },
    {
      "cell_type": "code",
      "metadata": {
        "id": "aK3a5oRem2KD",
        "colab_type": "code",
        "colab": {}
      },
      "source": [
        "!pip install mglearn\n",
        "\n",
        "import mglearn\n",
        "import matplotlib.pyplot as plt\n",
        "\n",
        "# wage データセット\n",
        "X, y = mglearn.datasets.make_wave(n_samples=40)\n",
        "plt.plot(X, y, 'o')\n",
        "plt.ylim(-3,3)\n",
        "plt.xlabel(\"Feature\")\n",
        "plt.ylabel(\"Target\")\n"
      ],
      "execution_count": 0,
      "outputs": []
    },
    {
      "cell_type": "markdown",
      "metadata": {
        "id": "r5eeka1yqJz3",
        "colab_type": "text"
      },
      "source": [
        "ウィスコンシン乳がんデータセット"
      ]
    },
    {
      "cell_type": "code",
      "metadata": {
        "id": "Gop36CwiqOd6",
        "colab_type": "code",
        "colab": {}
      },
      "source": [
        "from sklearn.datasets import load_breast_cancer\n",
        "import numpy as np\n",
        "\n",
        "cancer = load_breast_cancer()\n",
        "print(\"cancer.keys(): \\n{}\".format(cancer.keys()))\n",
        "# データセット\n",
        "print(\"Shape of cancer data: {}\".format(cancer.data.shape))\n",
        "# サンプルの良性・悪性の個数 (クラスごとのサンプル個数)\n",
        "print(\"Sample counts per class:\\n{}\".format(\n",
        "  {n: v for n, v in (zip(cancer.target_names, np.bincount(cancer.target)))}\n",
        "))\n",
        "# 特徴量名\n",
        "print(\"Feature names: \\n{}\".format(cancer.feature_names))\n"
      ],
      "execution_count": 0,
      "outputs": []
    },
    {
      "cell_type": "markdown",
      "metadata": {
        "id": "SsC96gLBvIut",
        "colab_type": "text"
      },
      "source": [
        "boston_housing データセット\n",
        "- ボストン郊外の住宅地の住宅価格の中央値\n"
      ]
    },
    {
      "cell_type": "code",
      "metadata": {
        "id": "ZePynPgNvjQv",
        "colab_type": "code",
        "colab": {}
      },
      "source": [
        "!pip install mglearn\n",
        "\n",
        "# 特徴量を読み込む\n",
        "from sklearn.datasets import load_boston\n",
        "boston = load_boston()\n",
        "print(\"Data shape: {}\".format(boston.data.shape))\n",
        "# print(\"Description: {}\".format(boston.DESCR))\n",
        "\n",
        "# 特徴量の積を読み込む\n",
        "# もとの13の特徴量に、13の特徴量から2つの特徴量を選ぶ重複ありの組み合わせ91を足したもの\n",
        "X, y = mglearn.datasets.load_extended_boston()\n",
        "print(\"X.shape: {}\".format(X.shape))\n",
        "\n"
      ],
      "execution_count": 0,
      "outputs": []
    },
    {
      "cell_type": "markdown",
      "metadata": {
        "id": "xNR3kuXYyb38",
        "colab_type": "text"
      },
      "source": [
        "## k-最近傍法\n",
        "\n"
      ]
    },
    {
      "cell_type": "markdown",
      "metadata": {
        "id": "0_dstUzw09Da",
        "colab_type": "text"
      },
      "source": [
        "k最近傍法のクラス分類"
      ]
    },
    {
      "cell_type": "code",
      "metadata": {
        "id": "dbcXQ4v-zHBy",
        "colab_type": "code",
        "colab": {}
      },
      "source": [
        "!pip install mglearn\n",
        "\n",
        "mglearn.plots.plot_knn_classification(n_neighbors=3)\n"
      ],
      "execution_count": 0,
      "outputs": []
    },
    {
      "cell_type": "markdown",
      "metadata": {
        "id": "HQXe8qlz1FjU",
        "colab_type": "text"
      },
      "source": [
        "scikit-learn を用いた k-最近傍法"
      ]
    },
    {
      "cell_type": "code",
      "metadata": {
        "id": "wMpYbtMm1WFE",
        "colab_type": "code",
        "outputId": "1b16c8dd-b5d2-4acc-d2b2-ca1687a25e76",
        "colab": {
          "base_uri": "https://localhost:8080/",
          "height": 367
        }
      },
      "source": [
        "!pip install mglearn\n",
        "\n",
        "from sklearn.model_selection import train_test_split\n",
        "from sklearn.neighbors import KNeighborsClassifier\n",
        "\n",
        "X, y = mglearn.datasets.make_forge()\n",
        "X_train, X_test, y_train, y_test = train_test_split(X, y, random_state=0)\n",
        "clf = KNeighborsClassifier(n_neighbors=3)\n",
        "clf.fit(X_train, y_train)\n",
        "print(\"Test set predictions: {}\".format(clf.predict(X_test)))\n",
        "print(\"Test set accuracy: {:.2f}\".format(clf.score(X_test, y_test)))\n"
      ],
      "execution_count": 0,
      "outputs": [
        {
          "output_type": "stream",
          "text": [
            "Requirement already satisfied: mglearn in /usr/local/lib/python3.6/dist-packages (0.1.7)\n",
            "Requirement already satisfied: numpy in /usr/local/lib/python3.6/dist-packages (from mglearn) (1.17.5)\n",
            "Requirement already satisfied: pandas in /usr/local/lib/python3.6/dist-packages (from mglearn) (0.25.3)\n",
            "Requirement already satisfied: imageio in /usr/local/lib/python3.6/dist-packages (from mglearn) (2.4.1)\n",
            "Requirement already satisfied: matplotlib in /usr/local/lib/python3.6/dist-packages (from mglearn) (3.1.3)\n",
            "Requirement already satisfied: cycler in /usr/local/lib/python3.6/dist-packages (from mglearn) (0.10.0)\n",
            "Requirement already satisfied: pillow in /usr/local/lib/python3.6/dist-packages (from mglearn) (6.2.2)\n",
            "Requirement already satisfied: scikit-learn in /usr/local/lib/python3.6/dist-packages (from mglearn) (0.22.1)\n",
            "Requirement already satisfied: pytz>=2017.2 in /usr/local/lib/python3.6/dist-packages (from pandas->mglearn) (2018.9)\n",
            "Requirement already satisfied: python-dateutil>=2.6.1 in /usr/local/lib/python3.6/dist-packages (from pandas->mglearn) (2.6.1)\n",
            "Requirement already satisfied: kiwisolver>=1.0.1 in /usr/local/lib/python3.6/dist-packages (from matplotlib->mglearn) (1.1.0)\n",
            "Requirement already satisfied: pyparsing!=2.0.4,!=2.1.2,!=2.1.6,>=2.0.1 in /usr/local/lib/python3.6/dist-packages (from matplotlib->mglearn) (2.4.6)\n",
            "Requirement already satisfied: six in /usr/local/lib/python3.6/dist-packages (from cycler->mglearn) (1.12.0)\n",
            "Requirement already satisfied: joblib>=0.11 in /usr/local/lib/python3.6/dist-packages (from scikit-learn->mglearn) (0.14.1)\n",
            "Requirement already satisfied: scipy>=0.17.0 in /usr/local/lib/python3.6/dist-packages (from scikit-learn->mglearn) (1.4.1)\n",
            "Requirement already satisfied: setuptools in /usr/local/lib/python3.6/dist-packages (from kiwisolver>=1.0.1->matplotlib->mglearn) (45.2.0)\n",
            "Test set predictions: [1 0 1 0 1 0 0]\n",
            "Test set accuracy: 0.86\n"
          ],
          "name": "stdout"
        },
        {
          "output_type": "stream",
          "text": [
            "/usr/local/lib/python3.6/dist-packages/sklearn/utils/deprecation.py:87: FutureWarning: Function make_blobs is deprecated; Please import make_blobs directly from scikit-learn\n",
            "  warnings.warn(msg, category=FutureWarning)\n"
          ],
          "name": "stderr"
        }
      ]
    }
  ]
}