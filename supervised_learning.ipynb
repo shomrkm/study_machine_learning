{
  "nbformat": 4,
  "nbformat_minor": 0,
  "metadata": {
    "colab": {
      "name": "supervised_learning.ipynb",
      "provenance": [],
      "collapsed_sections": [],
      "authorship_tag": "ABX9TyMp2qiAe7ifY2/Yo2sUM3Po",
      "include_colab_link": true
    },
    "kernelspec": {
      "name": "python3",
      "display_name": "Python 3"
    }
  },
  "cells": [
    {
      "cell_type": "markdown",
      "metadata": {
        "id": "view-in-github",
        "colab_type": "text"
      },
      "source": [
        "<a href=\"https://colab.research.google.com/github/shomrkm/study_machine_learning/blob/master/supervised_learning.ipynb\" target=\"_parent\"><img src=\"https://colab.research.google.com/assets/colab-badge.svg\" alt=\"Open In Colab\"/></a>"
      ]
    },
    {
      "cell_type": "markdown",
      "metadata": {
        "id": "Rwf13LibntC-",
        "colab_type": "text"
      },
      "source": [
        "# 2章 教師あり学習\n",
        "\n",
        "## サンプルデータセットの紹介\n",
        "\n",
        "Forge データセット"
      ]
    },
    {
      "cell_type": "code",
      "metadata": {
        "id": "5IuFp-9b4-Zs",
        "colab_type": "code",
        "colab": {}
      },
      "source": [
        "!pip install mglearn\n",
        "\n",
        "import matplotlib\n",
        "import mglearn\n",
        "import matplotlib.pyplot as plt\n",
        "\n",
        "# forge データセットの散布図\n",
        "#   データセットの生成\n",
        "X,y = mglearn.datasets.make_forge()\n",
        "#   データセットをプロット\n",
        "mglearn.discrete_scatter(X[:,0], X[:,1], y)\n",
        "plt.legend([\"Class 0\", \"Class 1\"], loc=4)\n",
        "plt.xlabel(\"First feature\")\n",
        "plt.ylabel(\"Second feature\")\n",
        "print(\"X.shape: {}\".format(X.shape))\n"
      ],
      "execution_count": 0,
      "outputs": []
    },
    {
      "cell_type": "markdown",
      "metadata": {
        "id": "Di-1qko_vGuW",
        "colab_type": "text"
      },
      "source": [
        ""
      ]
    },
    {
      "cell_type": "markdown",
      "metadata": {
        "id": "liAgvGFGmyon",
        "colab_type": "text"
      },
      "source": [
        "wageデータセット  \n",
        "- 以下でプロットしている(x軸に特徴量、y軸に回帰ターゲット)\n"
      ]
    },
    {
      "cell_type": "code",
      "metadata": {
        "id": "aK3a5oRem2KD",
        "colab_type": "code",
        "colab": {}
      },
      "source": [
        "!pip install mglearn\n",
        "\n",
        "import mglearn\n",
        "import matplotlib.pyplot as plt\n",
        "\n",
        "# wage データセット\n",
        "X, y = mglearn.datasets.make_wave(n_samples=40)\n",
        "plt.plot(X, y, 'o')\n",
        "plt.ylim(-3,3)\n",
        "plt.xlabel(\"Feature\")\n",
        "plt.ylabel(\"Target\")\n"
      ],
      "execution_count": 0,
      "outputs": []
    },
    {
      "cell_type": "markdown",
      "metadata": {
        "id": "r5eeka1yqJz3",
        "colab_type": "text"
      },
      "source": [
        "ウィスコンシン乳がんデータセット"
      ]
    },
    {
      "cell_type": "code",
      "metadata": {
        "id": "Gop36CwiqOd6",
        "colab_type": "code",
        "colab": {}
      },
      "source": [
        "from sklearn.datasets import load_breast_cancer\n",
        "import numpy as np\n",
        "\n",
        "cancer = load_breast_cancer()\n",
        "print(\"cancer.keys(): \\n{}\".format(cancer.keys()))\n",
        "# データセット\n",
        "print(\"Shape of cancer data: {}\".format(cancer.data.shape))\n",
        "# サンプルの良性・悪性の個数 (クラスごとのサンプル個数)\n",
        "print(\"Sample counts per class:\\n{}\".format(\n",
        "  {n: v for n, v in (zip(cancer.target_names, np.bincount(cancer.target)))}\n",
        "))\n",
        "# 特徴量名\n",
        "print(\"Feature names: \\n{}\".format(cancer.feature_names))\n"
      ],
      "execution_count": 0,
      "outputs": []
    },
    {
      "cell_type": "markdown",
      "metadata": {
        "id": "SsC96gLBvIut",
        "colab_type": "text"
      },
      "source": [
        "boston_housing データセット\n",
        "- ボストン郊外の住宅地の住宅価格の中央値\n"
      ]
    },
    {
      "cell_type": "code",
      "metadata": {
        "id": "ZePynPgNvjQv",
        "colab_type": "code",
        "colab": {}
      },
      "source": [
        "!pip install mglearn\n",
        "import mglearn\n",
        "from sklearn.datasets import load_boston\n",
        "\n",
        "# 特徴量を読み込む\n",
        "boston = load_boston()\n",
        "print(\"Data shape: {}\".format(boston.data.shape))\n",
        "# print(\"Description: {}\".format(boston.DESCR))\n",
        "\n",
        "# 特徴量の積を読み込む\n",
        "# もとの13の特徴量に、13の特徴量から2つの特徴量を選ぶ重複ありの組み合わせ91を足したもの\n",
        "X, y = mglearn.datasets.load_extended_boston()\n",
        "print(\"X.shape: {}\".format(X.shape))\n",
        "\n"
      ],
      "execution_count": 0,
      "outputs": []
    },
    {
      "cell_type": "markdown",
      "metadata": {
        "id": "xNR3kuXYyb38",
        "colab_type": "text"
      },
      "source": [
        "## k-最近傍法\n",
        "\n"
      ]
    },
    {
      "cell_type": "markdown",
      "metadata": {
        "id": "0_dstUzw09Da",
        "colab_type": "text"
      },
      "source": [
        "k最近傍法のクラス分類"
      ]
    },
    {
      "cell_type": "code",
      "metadata": {
        "id": "dbcXQ4v-zHBy",
        "colab_type": "code",
        "colab": {}
      },
      "source": [
        "!pip install mglearn\n",
        "import mglearn\n",
        "\n",
        "mglearn.plots.plot_knn_classification(n_neighbors=3)\n"
      ],
      "execution_count": 0,
      "outputs": []
    },
    {
      "cell_type": "markdown",
      "metadata": {
        "id": "HQXe8qlz1FjU",
        "colab_type": "text"
      },
      "source": [
        "scikit-learn を用いた k-最近傍法"
      ]
    },
    {
      "cell_type": "code",
      "metadata": {
        "id": "wMpYbtMm1WFE",
        "colab_type": "code",
        "colab": {}
      },
      "source": [
        "!pip install mglearn\n",
        "\n",
        "import mglearn\n",
        "from sklearn.model_selection import train_test_split\n",
        "from sklearn.neighbors import KNeighborsClassifier\n",
        "\n",
        "X, y = mglearn.datasets.make_forge()\n",
        "X_train, X_test, y_train, y_test = train_test_split(X, y, random_state=0)\n",
        "clf = KNeighborsClassifier(n_neighbors=3)\n",
        "clf.fit(X_train, y_train)\n",
        "print(\"Test set predictions: {}\".format(clf.predict(X_test)))\n",
        "print(\"Test set accuracy: {:.2f}\".format(clf.score(X_test, y_test)))\n"
      ],
      "execution_count": 0,
      "outputs": []
    },
    {
      "cell_type": "markdown",
      "metadata": {
        "id": "-d4cR9x2TA13",
        "colab_type": "text"
      },
      "source": [
        "決定境界の描画\n"
      ]
    },
    {
      "cell_type": "code",
      "metadata": {
        "id": "ZrT6Pv6RTJCt",
        "colab_type": "code",
        "colab": {}
      },
      "source": [
        "!pip install mglearn\n",
        "import mglearn\n",
        "import matplotlib.pyplot as plt\n",
        "from sklearn.neighbors import KNeighborsClassifier\n",
        "\n",
        "X, y = mglearn.datasets.make_forge()\n",
        "# 1x3 にグラフを分割してプロット\n",
        "fig, axes = plt.subplots(1, 3, figsize=(10, 3))\n",
        "# 近傍点数が1,3,9 のグラフを横に並べてプロット\n",
        "for n_neighbors, ax in zip([1, 3, 9], axes):\n",
        "  clf = KNeighborsClassifier(n_neighbors=n_neighbors).fit(X, y)\n",
        "  mglearn.plots.plot_2d_separator(clf, X, fill=True, eps=0.5, ax=ax, alpha=.4)\n",
        "  mglearn.discrete_scatter(X[:,0], X[:,1], y, ax=ax)\n",
        "  ax.set_title(\"{} neighbor(s)\".format(n_neighbors))\n",
        "  ax.set_xlabel(\"feature 0\")\n",
        "  ax.set_ylabel(\"feature 1\")\n",
        "\n",
        "axes[0].legend(loc=3)\n",
        "  "
      ],
      "execution_count": 0,
      "outputs": []
    },
    {
      "cell_type": "markdown",
      "metadata": {
        "id": "wXPewGTQZZ2h",
        "colab_type": "text"
      },
      "source": [
        "cancerデータセットを用いた性能評価"
      ]
    },
    {
      "cell_type": "code",
      "metadata": {
        "id": "yCLxZvENZlaA",
        "colab_type": "code",
        "colab": {}
      },
      "source": [
        "from sklearn.datasets import load_breast_cancer\n",
        "from sklearn.model_selection import train_test_split\n",
        "from sklearn.neighbors import KNeighborsClassifier\n",
        "\n",
        "cancer = load_breast_cancer()\n",
        "X_train, X_test, y_train, y_test = train_test_split(\n",
        "    cancer.data, cancer.target, stratify=cancer.target, random_state=66)\n",
        "\n",
        "training_accuracy= []\n",
        "test_accuracy =[]\n",
        "# 近傍点数 を1から10まで試す\n",
        "n_neighbors_settings = range(1, 11)\n",
        "\n",
        "for n_neighbors in n_neighbors_settings:\n",
        "  # モデル構築\n",
        "  clf = KNeighborsClassifier(n_neighbors=n_neighbors)\n",
        "  clf.fit(X_train, y_train)\n",
        "  # 訓練セット精度を記録\n",
        "  training_accuracy.append(clf.score(X_train, y_train))\n",
        "  # 汎化精度を記録\n",
        "  test_accuracy.append(clf.score(X_test, y_test))\n",
        "\n",
        "plt.plot(n_neighbors_settings, training_accuracy, label=\"training accuracy\")\n",
        "plt.plot(n_neighbors_settings, test_accuracy, label=\"test accuracy\")\n",
        "plt.ylabel(\"Accuracy\")\n",
        "plt.xlabel(\"n_neighbors\")\n",
        "plt.legend()\n"
      ],
      "execution_count": 0,
      "outputs": []
    }
  ]
}